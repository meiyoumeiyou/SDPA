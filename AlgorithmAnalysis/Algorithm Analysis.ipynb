{
 "cells": [
  {
   "cell_type": "markdown",
   "metadata": {},
   "source": [
    "# Algorithm Analysis"
   ]
  },
  {
   "cell_type": "markdown",
   "metadata": {},
   "source": [
    "Given two lists L1 and L2 of size N and M respectively, produce an output list that is L1 sorted in such a way that the ordering of the elements is specified by the sequence of elements in L2. For any elements in L1 that are not present in L2, append them at the end of the output-list in sorted order.\n",
    "Examples:\n",
    "Input: L1 = [2, 1, 2, 5, 7, 1, 9, 3, 6, 8, 8] \n",
    "       L2 = [2, 1, 8, 3]\n",
    "Output: [2, 2, 1, 1, 8, 8, 3, 5, 6, 7, 9] \n",
    "Input: L1 = [2, 6, 7, 5, 2, 6, 8, 4]\n",
    "       L2 = [2, 6, 4, 5] \n",
    "Output: [2, 2, 6, 6, 4, 5, 7 8]"
   ]
  },
  {
   "cell_type": "code",
   "execution_count": 1,
   "metadata": {},
   "outputs": [
    {
     "name": "stdout",
     "output_type": "stream",
     "text": [
      "[2, 2, 6, 6, 4, 5, 7, 8]\n"
     ]
    }
   ],
   "source": [
    "def fun(l1,l2):\n",
    "    l3=[]\n",
    "    l4=[]\n",
    "    for i in l2:\n",
    "        for j in l1:\n",
    "            if i == j:\n",
    "                l3.append(i)\n",
    "    for i in l1:\n",
    "        if i not in l2:\n",
    "            l4.append(i)\n",
    "    l4.sort()\n",
    "    for i in l4:\n",
    "        l3.append(i)\n",
    "    return l3\n",
    "\n",
    "L1 = [2, 6, 7, 5, 2, 6, 8, 4]\n",
    "L2 = [2, 6, 4, 5]\n",
    "print(fun(L1,L2))"
   ]
  },
  {
   "cell_type": "code",
   "execution_count": 2,
   "metadata": {},
   "outputs": [
    {
     "name": "stdout",
     "output_type": "stream",
     "text": [
      "[2, 2, 1, 1, 8, 8, 3, 5, 6, 7, 9]\n"
     ]
    }
   ],
   "source": [
    "L1 = [2, 1, 2, 5, 7, 1, 9, 3, 6, 8, 8]\n",
    "L2 = [2, 1, 8, 3]\n",
    "print(fun(L1,L2))"
   ]
  },
  {
   "cell_type": "markdown",
   "metadata": {},
   "source": [
    "What is the complexity of this sorting algorithm?"
   ]
  },
  {
   "cell_type": "markdown",
   "metadata": {},
   "source": [
    "Answer：The length of L1 times the length of L2."
   ]
  },
  {
   "cell_type": "markdown",
   "metadata": {},
   "source": [
    "How is the complexity affected if L2 is much larger than L1? And what if they are of the same size?"
   ]
  },
  {
   "cell_type": "markdown",
   "metadata": {},
   "source": [
    "Answer：No effect."
   ]
  }
 ],
 "metadata": {
  "kernelspec": {
   "display_name": "Python 3",
   "language": "python",
   "name": "python3"
  },
  "language_info": {
   "codemirror_mode": {
    "name": "ipython",
    "version": 3
   },
   "file_extension": ".py",
   "mimetype": "text/x-python",
   "name": "python",
   "nbconvert_exporter": "python",
   "pygments_lexer": "ipython3",
   "version": "3.8.5"
  }
 },
 "nbformat": 4,
 "nbformat_minor": 4
}
